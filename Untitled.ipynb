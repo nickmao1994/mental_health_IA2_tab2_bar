{
 "cells": [
  {
   "cell_type": "code",
   "execution_count": 1,
   "id": "b122cccd-ff70-49be-8395-3f2ca4c415d6",
   "metadata": {},
   "outputs": [
    {
     "name": "stderr",
     "output_type": "stream",
     "text": [
      "-- \u001b[1mAttaching packages\u001b[22m ------------------------------------------------------------------------------- tidyverse 1.3.1 --\n",
      "\n",
      "\u001b[32mv\u001b[39m \u001b[34mggplot2\u001b[39m 3.3.5     \u001b[32mv\u001b[39m \u001b[34mpurrr  \u001b[39m 0.3.4\n",
      "\u001b[32mv\u001b[39m \u001b[34mtibble \u001b[39m 3.1.6     \u001b[32mv\u001b[39m \u001b[34mdplyr  \u001b[39m 1.0.7\n",
      "\u001b[32mv\u001b[39m \u001b[34mtidyr  \u001b[39m 1.2.0     \u001b[32mv\u001b[39m \u001b[34mstringr\u001b[39m 1.4.0\n",
      "\u001b[32mv\u001b[39m \u001b[34mreadr  \u001b[39m 2.0.2     \u001b[32mv\u001b[39m \u001b[34mforcats\u001b[39m 0.5.1\n",
      "\n",
      "Warning message:\n",
      "\"package 'tibble' was built under R version 4.1.2\"\n",
      "Warning message:\n",
      "\"package 'tidyr' was built under R version 4.1.2\"\n",
      "-- \u001b[1mConflicts\u001b[22m ---------------------------------------------------------------------------------- tidyverse_conflicts() --\n",
      "\u001b[31mx\u001b[39m \u001b[34mdplyr\u001b[39m::\u001b[32mfilter()\u001b[39m masks \u001b[34mstats\u001b[39m::filter()\n",
      "\u001b[31mx\u001b[39m \u001b[34mdplyr\u001b[39m::\u001b[32mlag()\u001b[39m    masks \u001b[34mstats\u001b[39m::lag()\n",
      "\n"
     ]
    }
   ],
   "source": [
    "library(tidyverse)\n",
    "\n",
    "qdict = tibble(\"Q11\"=\"Does your employer provide resources to learn more about mental health issues and how to seek help?\",\n",
    "             \"Q12\"=\"Is your anonymity protected if you choose to take advantage of mental health or substance abuse treatment resources?\",\n",
    "             \"Q13\"=\"How easy is it for you to take medical leave for a mental health condition?\",\n",
    "             \"Q14\"=\"Do you think that discussing a mental health issue with your employer would have negative consequences?\",\n",
    "             \"Q15\"=\"Do you think that discussing a physical health issue with your employer would have negative consequences?\",\n",
    "             \"Q16\"=\"Would you be willing to discuss a mental health issue with your coworkers?\",\n",
    "             \"Q17\"=\"Would you be willing to discuss a mental health issue with your direct supervisor(s)?\",\n",
    "             \"Q18\"=\"Would you bring up a mental health issue with a potential employer in an interview?\",\n",
    "             \"Q19\"=\"Would you bring up a physical health issue with a potential employer in an interview?\",\n",
    "             \"Q20\"=\"Do you feel that your employer takes mental health as seriously as physical health?\",\n",
    "             \"Q21\"=\"Have you heard\") "
   ]
  },
  {
   "cell_type": "code",
   "execution_count": 8,
   "id": "0a08c035-f5f7-4245-b84c-17a50c786787",
   "metadata": {},
   "outputs": [
    {
     "data": {
      "text/html": [
       "'Does your employer provide resources to learn more about mental health issues and how to seek help?'"
      ],
      "text/latex": [
       "'Does your employer provide resources to learn more about mental health issues and how to seek help?'"
      ],
      "text/markdown": [
       "'Does your employer provide resources to learn more about mental health issues and how to seek help?'"
      ],
      "text/plain": [
       "[1] \"Does your employer provide resources to learn more about mental health issues and how to seek help?\""
      ]
     },
     "metadata": {},
     "output_type": "display_data"
    }
   ],
   "source": [
    "qdict[[1]]"
   ]
  },
  {
   "cell_type": "code",
   "execution_count": 21,
   "id": "2dcc124f-d05e-4db3-a61f-83c9ffaf3aff",
   "metadata": {},
   "outputs": [],
   "source": [
    "genderlist = list(c(\"Male\",\"Female\",\"Other\"))"
   ]
  },
  {
   "cell_type": "code",
   "execution_count": 22,
   "id": "518d6b49-9ee5-435c-aa1b-0ab612ac89ab",
   "metadata": {},
   "outputs": [
    {
     "data": {
      "text/html": [
       "<ol>\n",
       "\t<li><style>\n",
       ".list-inline {list-style: none; margin:0; padding: 0}\n",
       ".list-inline>li {display: inline-block}\n",
       ".list-inline>li:not(:last-child)::after {content: \"\\00b7\"; padding: 0 .5ex}\n",
       "</style>\n",
       "<ol class=list-inline><li>'Male'</li><li>'Female'</li><li>'Other'</li></ol>\n",
       "</li>\n",
       "</ol>\n"
      ],
      "text/latex": [
       "\\begin{enumerate}\n",
       "\\item \\begin{enumerate*}\n",
       "\\item 'Male'\n",
       "\\item 'Female'\n",
       "\\item 'Other'\n",
       "\\end{enumerate*}\n",
       "\n",
       "\\end{enumerate}\n"
      ],
      "text/markdown": [
       "1. 1. 'Male'\n",
       "2. 'Female'\n",
       "3. 'Other'\n",
       "\n",
       "\n",
       "\n",
       "\n",
       "\n"
      ],
      "text/plain": [
       "[[1]]\n",
       "[1] \"Male\"   \"Female\" \"Other\" \n"
      ]
     },
     "metadata": {},
     "output_type": "display_data"
    }
   ],
   "source": [
    "genderlist"
   ]
  },
  {
   "cell_type": "code",
   "execution_count": 24,
   "id": "c77b6bb2-6ba1-41a2-9614-d40fd12dd929",
   "metadata": {},
   "outputs": [
    {
     "data": {
      "text/html": [
       "<style>\n",
       ".list-inline {list-style: none; margin:0; padding: 0}\n",
       ".list-inline>li {display: inline-block}\n",
       ".list-inline>li:not(:last-child)::after {content: \"\\00b7\"; padding: 0 .5ex}\n",
       "</style>\n",
       "<ol class=list-inline><li>'Male'</li><li>'Female'</li><li>'Other'</li></ol>\n"
      ],
      "text/latex": [
       "\\begin{enumerate*}\n",
       "\\item 'Male'\n",
       "\\item 'Female'\n",
       "\\item 'Other'\n",
       "\\end{enumerate*}\n"
      ],
      "text/markdown": [
       "1. 'Male'\n",
       "2. 'Female'\n",
       "3. 'Other'\n",
       "\n",
       "\n"
      ],
      "text/plain": [
       "[1] \"Male\"   \"Female\" \"Other\" "
      ]
     },
     "metadata": {},
     "output_type": "display_data"
    }
   ],
   "source": [
    "unlist(genderlist)"
   ]
  },
  {
   "cell_type": "code",
   "execution_count": 58,
   "id": "0eadfc95-ebe7-4ee0-af4e-c8290c8c612d",
   "metadata": {},
   "outputs": [],
   "source": [
    "options = genderlist %>%\n",
    "    purrr::map(function(col) list(label = col, value = col))"
   ]
  },
  {
   "cell_type": "code",
   "execution_count": 59,
   "id": "ebeec34c-46cf-4cfe-847c-7218af062297",
   "metadata": {},
   "outputs": [
    {
     "data": {
      "text/html": [
       "<ol>\n",
       "\t<li><dl>\n",
       "\t<dt>$label</dt>\n",
       "\t\t<dd><style>\n",
       ".list-inline {list-style: none; margin:0; padding: 0}\n",
       ".list-inline>li {display: inline-block}\n",
       ".list-inline>li:not(:last-child)::after {content: \"\\00b7\"; padding: 0 .5ex}\n",
       "</style>\n",
       "<ol class=list-inline><li>'Male'</li><li>'Female'</li><li>'Other'</li></ol>\n",
       "</dd>\n",
       "\t<dt>$value</dt>\n",
       "\t\t<dd><style>\n",
       ".list-inline {list-style: none; margin:0; padding: 0}\n",
       ".list-inline>li {display: inline-block}\n",
       ".list-inline>li:not(:last-child)::after {content: \"\\00b7\"; padding: 0 .5ex}\n",
       "</style>\n",
       "<ol class=list-inline><li>'Male'</li><li>'Female'</li><li>'Other'</li></ol>\n",
       "</dd>\n",
       "</dl>\n",
       "</li>\n",
       "</ol>\n"
      ],
      "text/latex": [
       "\\begin{enumerate}\n",
       "\\item \\begin{description}\n",
       "\\item[\\$label] \\begin{enumerate*}\n",
       "\\item 'Male'\n",
       "\\item 'Female'\n",
       "\\item 'Other'\n",
       "\\end{enumerate*}\n",
       "\n",
       "\\item[\\$value] \\begin{enumerate*}\n",
       "\\item 'Male'\n",
       "\\item 'Female'\n",
       "\\item 'Other'\n",
       "\\end{enumerate*}\n",
       "\n",
       "\\end{description}\n",
       "\n",
       "\\end{enumerate}\n"
      ],
      "text/markdown": [
       "1. $label\n",
       ":   1. 'Male'\n",
       "2. 'Female'\n",
       "3. 'Other'\n",
       "\n",
       "\n",
       "\n",
       "$value\n",
       ":   1. 'Male'\n",
       "2. 'Female'\n",
       "3. 'Other'\n",
       "\n",
       "\n",
       "\n",
       "\n",
       "\n",
       "\n",
       "\n",
       "\n"
      ],
      "text/plain": [
       "[[1]]\n",
       "[[1]]$label\n",
       "[1] \"Male\"   \"Female\" \"Other\" \n",
       "\n",
       "[[1]]$value\n",
       "[1] \"Male\"   \"Female\" \"Other\" \n",
       "\n"
      ]
     },
     "metadata": {},
     "output_type": "display_data"
    }
   ],
   "source": [
    "options"
   ]
  },
  {
   "cell_type": "code",
   "execution_count": null,
   "id": "cf8b2677-4ff5-4780-9506-8b23433d9b85",
   "metadata": {},
   "outputs": [],
   "source": []
  }
 ],
 "metadata": {
  "kernelspec": {
   "display_name": "R",
   "language": "R",
   "name": "ir"
  },
  "language_info": {
   "codemirror_mode": "r",
   "file_extension": ".r",
   "mimetype": "text/x-r-source",
   "name": "R",
   "pygments_lexer": "r",
   "version": "4.1.1"
  }
 },
 "nbformat": 4,
 "nbformat_minor": 5
}
